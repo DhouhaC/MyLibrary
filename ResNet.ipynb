{
  "nbformat": 4,
  "nbformat_minor": 0,
  "metadata": {
    "colab": {
      "name": "ResNet.ipynb",
      "provenance": [],
      "include_colab_link": true
    },
    "kernelspec": {
      "name": "python3",
      "display_name": "Python 3"
    }
  },
  "cells": [
    {
      "cell_type": "markdown",
      "metadata": {
        "id": "view-in-github",
        "colab_type": "text"
      },
      "source": [
        "<a href=\"https://colab.research.google.com/github/DhouhaC/MyLibrary/blob/resnet-resources/ResNet.ipynb\" target=\"_parent\"><img src=\"https://colab.research.google.com/assets/colab-badge.svg\" alt=\"Open In Colab\"/></a>"
      ]
    },
    {
      "cell_type": "markdown",
      "metadata": {
        "id": "Vb0tmx85KMEN",
        "colab_type": "text"
      },
      "source": [
        "<p>Plain deep neural networks suffer from convergence problems with more layers in the network. RestNet has been introduced to solve this problem make it possible to achieve better results with deeper networks without increasing training error. This architecture has been proposed by [1] and won ILSVRC and COCO 2015 competitions.</p>\n",
        "\n",
        "<p>Basically, a deeper network should not produce a higher training error. Indeed, it should at least use identity functions in excess layers. But, in practice this is not the case. Thus, this suggests that deep layers are unable to detect identity functions. Actually, this hypothesis motivated Residual connections in deep networks.</p>\n",
        "\n",
        "<p>Residual network is a stacking of All RestNet architectures are composed basically of two types of building blocks. The first one </p>\n",
        "\n",
        "<p><b>[1]</b> He, K., Zhang, X., Ren, S. and Sun, J., 2016. Deep residual learning for image recognition. In Proceedings of the IEEE conference on computer vision and pattern recognition (pp. 770-778).</p>"
      ]
    },
    {
      "cell_type": "code",
      "metadata": {
        "id": "AR995oa1Jyuz",
        "colab_type": "code",
        "colab": {}
      },
      "source": [
        ""
      ],
      "execution_count": 0,
      "outputs": []
    }
  ]
}